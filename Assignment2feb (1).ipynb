{
 "cells": [
  {
   "cell_type": "code",
   "execution_count": 1,
   "id": "e8c14ac2-eb33-4b62-9b53-42b0c2c131ac",
   "metadata": {},
   "outputs": [],
   "source": [
    "## Q1.Answer.. for loop direct give us result but while loop always check a condition to it's tru or false then go for the result\n"
   ]
  },
  {
   "cell_type": "code",
   "execution_count": null,
   "id": "aa2e5c08-c8e8-4f71-89e1-a50be7ecc5a6",
   "metadata": {},
   "outputs": [],
   "source": [
    "# Q2. For while:-"
   ]
  },
  {
   "cell_type": "code",
   "execution_count": 32,
   "id": "a463ac1e-c063-457c-8131-5a51696c2f5f",
   "metadata": {},
   "outputs": [
    {
     "data": {
      "text/plain": [
       "55"
      ]
     },
     "execution_count": 32,
     "metadata": {},
     "output_type": "execute_result"
    }
   ],
   "source": [
    "natural_no = 10\n",
    "starting_point = 0\n",
    "counter = 1\n",
    "\n",
    "while counter <= natural_no:\n",
    "    starting_point = starting_point + counter\n",
    "    counter = counter + 1\n",
    "starting_point"
   ]
  },
  {
   "cell_type": "code",
   "execution_count": null,
   "id": "c6fe0177-09c7-4e13-a3dd-36eb5547430c",
   "metadata": {},
   "outputs": [],
   "source": [
    "# for loop"
   ]
  },
  {
   "cell_type": "code",
   "execution_count": 41,
   "id": "a2775b3a-eaed-4357-b0d5-73e64633fd5e",
   "metadata": {},
   "outputs": [
    {
     "data": {
      "text/plain": [
       "55"
      ]
     },
     "execution_count": 41,
     "metadata": {},
     "output_type": "execute_result"
    }
   ],
   "source": [
    "total = 0\n",
    "\n",
    "for i in range(1,11):\n",
    "    total = total + i\n",
    "total"
   ]
  },
  {
   "cell_type": "code",
   "execution_count": 43,
   "id": "a8cb244e-58a1-461d-9518-d80d1f1b4c06",
   "metadata": {},
   "outputs": [],
   "source": [
    "#  Q3 answer"
   ]
  },
  {
   "cell_type": "code",
   "execution_count": 58,
   "id": "719acbf1-1d8f-4835-8227-788958a0f45e",
   "metadata": {},
   "outputs": [
    {
     "name": "stdin",
     "output_type": "stream",
     "text": [
      "electricity consumed in a month:  310\n"
     ]
    },
    {
     "data": {
      "text/plain": [
       "2250.0"
      ]
     },
     "execution_count": 58,
     "metadata": {},
     "output_type": "execute_result"
    }
   ],
   "source": [
    "unit = int(input(\"electricity consumed in a month: \"))\n",
    "rupees = 0\n",
    "\n",
    "if unit <= 100:\n",
    "    rupees = unit*4.5\n",
    "elif unit > 100 and unit <= 200:\n",
    "    rupees = 100*4.5 + (unit-100)*6\n",
    "elif unit > 200 and unit <= 300:\n",
    "    rupees =  100*4.5+ 100*6+(unit-200)*10\n",
    "else:\n",
    "    rupees = 100*4.5+100*6+100*10+(unit-300) *20\n",
    "rupees\n"
   ]
  },
  {
   "cell_type": "code",
   "execution_count": 61,
   "id": "705630ad-f435-4670-80a8-87d1c32d0333",
   "metadata": {},
   "outputs": [
    {
     "data": {
      "text/plain": [
       "12"
      ]
     },
     "execution_count": 61,
     "metadata": {},
     "output_type": "execute_result"
    }
   ],
   "source": [
    "# Q5 answer\n",
    "\n",
    "string = \"I want to become a data scientist\"\n",
    "count = 0\n",
    "string = string.lower()\n",
    "l = ['a','e','i','o','u']\n",
    "\n",
    "for i in string:\n",
    "    if i in l:\n",
    "        count = count+1\n",
    "count"
   ]
  },
  {
   "cell_type": "code",
   "execution_count": 62,
   "id": "7ba83905-132b-4326-8494-439330c0511f",
   "metadata": {},
   "outputs": [],
   "source": [
    "# Q4 answer"
   ]
  },
  {
   "cell_type": "code",
   "execution_count": 66,
   "id": "66df9064-f1c5-432b-966e-abb959ebc6e5",
   "metadata": {},
   "outputs": [
    {
     "data": {
      "text/plain": [
       "100"
      ]
     },
     "execution_count": 66,
     "metadata": {},
     "output_type": "execute_result"
    }
   ],
   "source": [
    "len(range(1,101))"
   ]
  },
  {
   "cell_type": "code",
   "execution_count": 4,
   "id": "14303032-fb3a-441d-8edc-cc28c244f77b",
   "metadata": {},
   "outputs": [],
   "source": [
    "#  for Q4"
   ]
  },
  {
   "cell_type": "code",
   "execution_count": 5,
   "id": "68795755-efdf-401f-91b5-4b1f89d5cb83",
   "metadata": {},
   "outputs": [
    {
     "name": "stdout",
     "output_type": "stream",
     "text": [
      "[2, 4, 5, 6, 8, 10, 12, 14, 15, 16, 18, 20, 22, 24, 25, 26, 28, 30, 32, 34, 35, 36, 38, 40, 42, 44, 45, 46, 48, 50, 52, 54, 55, 56, 58, 60, 62, 64, 65, 66, 68, 70, 72, 74, 75, 76, 78, 80, 82, 84, 85, 86, 88, 90, 92, 94, 95, 96, 98, 100]\n"
     ]
    }
   ],
   "source": [
    "# Using for loop\n",
    "cube_list = []\n",
    "for num in range(1, 101):\n",
    "    cube = num ** 3\n",
    "    if cube % 4 == 0 or cube % 5 == 0:\n",
    "        cube_list.append(num)\n",
    "\n",
    "print(cube_list)"
   ]
  },
  {
   "cell_type": "code",
   "execution_count": 2,
   "id": "9781aaaf-43d5-48c5-a3cd-e932f74dc991",
   "metadata": {},
   "outputs": [
    {
     "name": "stdout",
     "output_type": "stream",
     "text": [
      "[2, 4, 5, 6, 8, 10, 12, 14, 15, 16, 18, 20, 22, 24, 25, 26, 28, 30, 32, 34, 35, 36, 38, 40, 42, 44, 45, 46, 48, 50, 52, 54, 55, 56, 58, 60, 62, 64, 65, 66, 68, 70, 72, 74, 75, 76, 78, 80, 82, 84, 85, 86, 88, 90, 92, 94, 95, 96, 98, 100]\n"
     ]
    }
   ],
   "source": [
    "# Using while loop\n",
    "cube_list = []\n",
    "num = 1\n",
    "while num <= 100:\n",
    "    cube = num ** 3\n",
    "    if cube % 4 == 0 or cube % 5 == 0:\n",
    "        cube_list.append(num)\n",
    "    num += 1\n",
    "\n",
    "print(cube_list)"
   ]
  },
  {
   "cell_type": "code",
   "execution_count": null,
   "id": "9417390d-2e99-4496-9d22-9d8e9cca6f27",
   "metadata": {},
   "outputs": [],
   "source": []
  }
 ],
 "metadata": {
  "kernelspec": {
   "display_name": "Python 3 (ipykernel)",
   "language": "python",
   "name": "python3"
  },
  "language_info": {
   "codemirror_mode": {
    "name": "ipython",
    "version": 3
   },
   "file_extension": ".py",
   "mimetype": "text/x-python",
   "name": "python",
   "nbconvert_exporter": "python",
   "pygments_lexer": "ipython3",
   "version": "3.10.8"
  }
 },
 "nbformat": 4,
 "nbformat_minor": 5
}
